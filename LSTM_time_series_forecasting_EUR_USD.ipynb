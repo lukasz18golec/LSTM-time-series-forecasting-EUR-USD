{
  "nbformat": 4,
  "nbformat_minor": 0,
  "metadata": {
    "colab": {
      "provenance": [],
      "authorship_tag": "ABX9TyOx5NsX6M2GoRC0k/PaBvdq",
      "include_colab_link": true
    },
    "kernelspec": {
      "name": "python3",
      "display_name": "Python 3"
    },
    "language_info": {
      "name": "python"
    }
  },
  "cells": [
    {
      "cell_type": "markdown",
      "metadata": {
        "id": "view-in-github",
        "colab_type": "text"
      },
      "source": [
        "<a href=\"https://colab.research.google.com/github/lukasz18golec/LSTM-time-series-forecasting-EUR-USD/blob/main/LSTM_time_series_forecasting_EUR_USD.ipynb\" target=\"_parent\"><img src=\"https://colab.research.google.com/assets/colab-badge.svg\" alt=\"Open In Colab\"/></a>"
      ]
    },
    {
      "cell_type": "markdown",
      "source": [
        "**EUR/USD Exchange Currency Pair - Time Series Forecasting**"
      ],
      "metadata": {
        "id": "egtiuH3PmGBh"
      }
    },
    {
      "cell_type": "markdown",
      "source": [
        "This machine learning project covers on time series forecasting, specifically predicting the daily \"Close\" prices of the EUR/USD currency pair. The dataset spans a comprehensive period of 10 years, from December 18, 2013, to December 18, 2023. The primary objective is to leverage Long Short-Term Memory (LSTM) neural networks, a powerful type of recurrent neural network (RNN), for predicting the currency pair's closing prices over the next 5 days. The LSTM model is chosen for its ability to capture long-term dependencies in sequential data, making it well-suited for forecasting tasks in financial time series analysis. The project encompasses data preprocessing, model training, and evaluation, culminating in a predictive model capable of providing valuable insights into potential future price movements."
      ],
      "metadata": {
        "id": "sFR8Z9Mnm5h9"
      }
    },
    {
      "cell_type": "markdown",
      "source": [
        "1. Importing and loading data"
      ],
      "metadata": {
        "id": "PxCqzb7to_C_"
      }
    },
    {
      "cell_type": "code",
      "execution_count": null,
      "metadata": {
        "colab": {
          "base_uri": "https://localhost:8080/",
          "height": 244
        },
        "id": "0lr1URHJX5Fm",
        "outputId": "de243fcf-107e-456d-a57b-bb5d6e056b73"
      },
      "outputs": [
        {
          "output_type": "stream",
          "name": "stdout",
          "text": [
            "Drive already mounted at /content/drive; to attempt to forcibly remount, call drive.mount(\"/content/drive\", force_remount=True).\n"
          ]
        },
        {
          "output_type": "execute_result",
          "data": {
            "text/plain": [
              "         Date      Open      High       Low     Close\n",
              "0  2013-12-18  1.377107  1.378099  1.373479  1.377126\n",
              "1  2013-12-19  1.368307  1.369394  1.365113  1.368495\n",
              "2  2013-12-20  1.365598  1.370870  1.362583  1.365579\n",
              "3  2013-12-23  1.367877  1.371599  1.367430  1.367839\n",
              "4  2013-12-24  1.369825  1.369863  1.365579  1.369994"
            ],
            "text/html": [
              "\n",
              "  <div id=\"df-bf9cdf51-c5f1-436a-9005-eaa6be877df9\" class=\"colab-df-container\">\n",
              "    <div>\n",
              "<style scoped>\n",
              "    .dataframe tbody tr th:only-of-type {\n",
              "        vertical-align: middle;\n",
              "    }\n",
              "\n",
              "    .dataframe tbody tr th {\n",
              "        vertical-align: top;\n",
              "    }\n",
              "\n",
              "    .dataframe thead th {\n",
              "        text-align: right;\n",
              "    }\n",
              "</style>\n",
              "<table border=\"1\" class=\"dataframe\">\n",
              "  <thead>\n",
              "    <tr style=\"text-align: right;\">\n",
              "      <th></th>\n",
              "      <th>Date</th>\n",
              "      <th>Open</th>\n",
              "      <th>High</th>\n",
              "      <th>Low</th>\n",
              "      <th>Close</th>\n",
              "    </tr>\n",
              "  </thead>\n",
              "  <tbody>\n",
              "    <tr>\n",
              "      <th>0</th>\n",
              "      <td>2013-12-18</td>\n",
              "      <td>1.377107</td>\n",
              "      <td>1.378099</td>\n",
              "      <td>1.373479</td>\n",
              "      <td>1.377126</td>\n",
              "    </tr>\n",
              "    <tr>\n",
              "      <th>1</th>\n",
              "      <td>2013-12-19</td>\n",
              "      <td>1.368307</td>\n",
              "      <td>1.369394</td>\n",
              "      <td>1.365113</td>\n",
              "      <td>1.368495</td>\n",
              "    </tr>\n",
              "    <tr>\n",
              "      <th>2</th>\n",
              "      <td>2013-12-20</td>\n",
              "      <td>1.365598</td>\n",
              "      <td>1.370870</td>\n",
              "      <td>1.362583</td>\n",
              "      <td>1.365579</td>\n",
              "    </tr>\n",
              "    <tr>\n",
              "      <th>3</th>\n",
              "      <td>2013-12-23</td>\n",
              "      <td>1.367877</td>\n",
              "      <td>1.371599</td>\n",
              "      <td>1.367430</td>\n",
              "      <td>1.367839</td>\n",
              "    </tr>\n",
              "    <tr>\n",
              "      <th>4</th>\n",
              "      <td>2013-12-24</td>\n",
              "      <td>1.369825</td>\n",
              "      <td>1.369863</td>\n",
              "      <td>1.365579</td>\n",
              "      <td>1.369994</td>\n",
              "    </tr>\n",
              "  </tbody>\n",
              "</table>\n",
              "</div>\n",
              "    <div class=\"colab-df-buttons\">\n",
              "\n",
              "  <div class=\"colab-df-container\">\n",
              "    <button class=\"colab-df-convert\" onclick=\"convertToInteractive('df-bf9cdf51-c5f1-436a-9005-eaa6be877df9')\"\n",
              "            title=\"Convert this dataframe to an interactive table.\"\n",
              "            style=\"display:none;\">\n",
              "\n",
              "  <svg xmlns=\"http://www.w3.org/2000/svg\" height=\"24px\" viewBox=\"0 -960 960 960\">\n",
              "    <path d=\"M120-120v-720h720v720H120Zm60-500h600v-160H180v160Zm220 220h160v-160H400v160Zm0 220h160v-160H400v160ZM180-400h160v-160H180v160Zm440 0h160v-160H620v160ZM180-180h160v-160H180v160Zm440 0h160v-160H620v160Z\"/>\n",
              "  </svg>\n",
              "    </button>\n",
              "\n",
              "  <style>\n",
              "    .colab-df-container {\n",
              "      display:flex;\n",
              "      gap: 12px;\n",
              "    }\n",
              "\n",
              "    .colab-df-convert {\n",
              "      background-color: #E8F0FE;\n",
              "      border: none;\n",
              "      border-radius: 50%;\n",
              "      cursor: pointer;\n",
              "      display: none;\n",
              "      fill: #1967D2;\n",
              "      height: 32px;\n",
              "      padding: 0 0 0 0;\n",
              "      width: 32px;\n",
              "    }\n",
              "\n",
              "    .colab-df-convert:hover {\n",
              "      background-color: #E2EBFA;\n",
              "      box-shadow: 0px 1px 2px rgba(60, 64, 67, 0.3), 0px 1px 3px 1px rgba(60, 64, 67, 0.15);\n",
              "      fill: #174EA6;\n",
              "    }\n",
              "\n",
              "    .colab-df-buttons div {\n",
              "      margin-bottom: 4px;\n",
              "    }\n",
              "\n",
              "    [theme=dark] .colab-df-convert {\n",
              "      background-color: #3B4455;\n",
              "      fill: #D2E3FC;\n",
              "    }\n",
              "\n",
              "    [theme=dark] .colab-df-convert:hover {\n",
              "      background-color: #434B5C;\n",
              "      box-shadow: 0px 1px 3px 1px rgba(0, 0, 0, 0.15);\n",
              "      filter: drop-shadow(0px 1px 2px rgba(0, 0, 0, 0.3));\n",
              "      fill: #FFFFFF;\n",
              "    }\n",
              "  </style>\n",
              "\n",
              "    <script>\n",
              "      const buttonEl =\n",
              "        document.querySelector('#df-bf9cdf51-c5f1-436a-9005-eaa6be877df9 button.colab-df-convert');\n",
              "      buttonEl.style.display =\n",
              "        google.colab.kernel.accessAllowed ? 'block' : 'none';\n",
              "\n",
              "      async function convertToInteractive(key) {\n",
              "        const element = document.querySelector('#df-bf9cdf51-c5f1-436a-9005-eaa6be877df9');\n",
              "        const dataTable =\n",
              "          await google.colab.kernel.invokeFunction('convertToInteractive',\n",
              "                                                    [key], {});\n",
              "        if (!dataTable) return;\n",
              "\n",
              "        const docLinkHtml = 'Like what you see? Visit the ' +\n",
              "          '<a target=\"_blank\" href=https://colab.research.google.com/notebooks/data_table.ipynb>data table notebook</a>'\n",
              "          + ' to learn more about interactive tables.';\n",
              "        element.innerHTML = '';\n",
              "        dataTable['output_type'] = 'display_data';\n",
              "        await google.colab.output.renderOutput(dataTable, element);\n",
              "        const docLink = document.createElement('div');\n",
              "        docLink.innerHTML = docLinkHtml;\n",
              "        element.appendChild(docLink);\n",
              "      }\n",
              "    </script>\n",
              "  </div>\n",
              "\n",
              "\n",
              "<div id=\"df-cbcda81f-2a73-4fe7-8df9-781a7f14fa9a\">\n",
              "  <button class=\"colab-df-quickchart\" onclick=\"quickchart('df-cbcda81f-2a73-4fe7-8df9-781a7f14fa9a')\"\n",
              "            title=\"Suggest charts\"\n",
              "            style=\"display:none;\">\n",
              "\n",
              "<svg xmlns=\"http://www.w3.org/2000/svg\" height=\"24px\"viewBox=\"0 0 24 24\"\n",
              "     width=\"24px\">\n",
              "    <g>\n",
              "        <path d=\"M19 3H5c-1.1 0-2 .9-2 2v14c0 1.1.9 2 2 2h14c1.1 0 2-.9 2-2V5c0-1.1-.9-2-2-2zM9 17H7v-7h2v7zm4 0h-2V7h2v10zm4 0h-2v-4h2v4z\"/>\n",
              "    </g>\n",
              "</svg>\n",
              "  </button>\n",
              "\n",
              "<style>\n",
              "  .colab-df-quickchart {\n",
              "      --bg-color: #E8F0FE;\n",
              "      --fill-color: #1967D2;\n",
              "      --hover-bg-color: #E2EBFA;\n",
              "      --hover-fill-color: #174EA6;\n",
              "      --disabled-fill-color: #AAA;\n",
              "      --disabled-bg-color: #DDD;\n",
              "  }\n",
              "\n",
              "  [theme=dark] .colab-df-quickchart {\n",
              "      --bg-color: #3B4455;\n",
              "      --fill-color: #D2E3FC;\n",
              "      --hover-bg-color: #434B5C;\n",
              "      --hover-fill-color: #FFFFFF;\n",
              "      --disabled-bg-color: #3B4455;\n",
              "      --disabled-fill-color: #666;\n",
              "  }\n",
              "\n",
              "  .colab-df-quickchart {\n",
              "    background-color: var(--bg-color);\n",
              "    border: none;\n",
              "    border-radius: 50%;\n",
              "    cursor: pointer;\n",
              "    display: none;\n",
              "    fill: var(--fill-color);\n",
              "    height: 32px;\n",
              "    padding: 0;\n",
              "    width: 32px;\n",
              "  }\n",
              "\n",
              "  .colab-df-quickchart:hover {\n",
              "    background-color: var(--hover-bg-color);\n",
              "    box-shadow: 0 1px 2px rgba(60, 64, 67, 0.3), 0 1px 3px 1px rgba(60, 64, 67, 0.15);\n",
              "    fill: var(--button-hover-fill-color);\n",
              "  }\n",
              "\n",
              "  .colab-df-quickchart-complete:disabled,\n",
              "  .colab-df-quickchart-complete:disabled:hover {\n",
              "    background-color: var(--disabled-bg-color);\n",
              "    fill: var(--disabled-fill-color);\n",
              "    box-shadow: none;\n",
              "  }\n",
              "\n",
              "  .colab-df-spinner {\n",
              "    border: 2px solid var(--fill-color);\n",
              "    border-color: transparent;\n",
              "    border-bottom-color: var(--fill-color);\n",
              "    animation:\n",
              "      spin 1s steps(1) infinite;\n",
              "  }\n",
              "\n",
              "  @keyframes spin {\n",
              "    0% {\n",
              "      border-color: transparent;\n",
              "      border-bottom-color: var(--fill-color);\n",
              "      border-left-color: var(--fill-color);\n",
              "    }\n",
              "    20% {\n",
              "      border-color: transparent;\n",
              "      border-left-color: var(--fill-color);\n",
              "      border-top-color: var(--fill-color);\n",
              "    }\n",
              "    30% {\n",
              "      border-color: transparent;\n",
              "      border-left-color: var(--fill-color);\n",
              "      border-top-color: var(--fill-color);\n",
              "      border-right-color: var(--fill-color);\n",
              "    }\n",
              "    40% {\n",
              "      border-color: transparent;\n",
              "      border-right-color: var(--fill-color);\n",
              "      border-top-color: var(--fill-color);\n",
              "    }\n",
              "    60% {\n",
              "      border-color: transparent;\n",
              "      border-right-color: var(--fill-color);\n",
              "    }\n",
              "    80% {\n",
              "      border-color: transparent;\n",
              "      border-right-color: var(--fill-color);\n",
              "      border-bottom-color: var(--fill-color);\n",
              "    }\n",
              "    90% {\n",
              "      border-color: transparent;\n",
              "      border-bottom-color: var(--fill-color);\n",
              "    }\n",
              "  }\n",
              "</style>\n",
              "\n",
              "  <script>\n",
              "    async function quickchart(key) {\n",
              "      const quickchartButtonEl =\n",
              "        document.querySelector('#' + key + ' button');\n",
              "      quickchartButtonEl.disabled = true;  // To prevent multiple clicks.\n",
              "      quickchartButtonEl.classList.add('colab-df-spinner');\n",
              "      try {\n",
              "        const charts = await google.colab.kernel.invokeFunction(\n",
              "            'suggestCharts', [key], {});\n",
              "      } catch (error) {\n",
              "        console.error('Error during call to suggestCharts:', error);\n",
              "      }\n",
              "      quickchartButtonEl.classList.remove('colab-df-spinner');\n",
              "      quickchartButtonEl.classList.add('colab-df-quickchart-complete');\n",
              "    }\n",
              "    (() => {\n",
              "      let quickchartButtonEl =\n",
              "        document.querySelector('#df-cbcda81f-2a73-4fe7-8df9-781a7f14fa9a button');\n",
              "      quickchartButtonEl.style.display =\n",
              "        google.colab.kernel.accessAllowed ? 'block' : 'none';\n",
              "    })();\n",
              "  </script>\n",
              "</div>\n",
              "    </div>\n",
              "  </div>\n"
            ]
          },
          "metadata": {},
          "execution_count": 22
        }
      ],
      "source": [
        "from google.colab import drive\n",
        "import pandas as pd\n",
        "\n",
        "drive.mount('/content/drive')\n",
        "file_path = '/content/drive/MyDrive/projects/EURUSD_18_12_2023.csv'\n",
        "data0 = pd.read_csv(file_path)\n",
        "data0.head()"
      ]
    },
    {
      "cell_type": "code",
      "source": [
        "data1 = data0[['Date', 'Close']]\n",
        "data1.head()"
      ],
      "metadata": {
        "colab": {
          "base_uri": "https://localhost:8080/",
          "height": 206
        },
        "id": "MiiU7k_AYFj_",
        "outputId": "0e7909c2-9583-4efd-c92b-a063a5913b7c"
      },
      "execution_count": null,
      "outputs": [
        {
          "output_type": "execute_result",
          "data": {
            "text/plain": [
              "         Date     Close\n",
              "0  2013-12-18  1.377126\n",
              "1  2013-12-19  1.368495\n",
              "2  2013-12-20  1.365579\n",
              "3  2013-12-23  1.367839\n",
              "4  2013-12-24  1.369994"
            ],
            "text/html": [
              "\n",
              "  <div id=\"df-60247509-d1ce-40a2-9dc4-fd194841b3b0\" class=\"colab-df-container\">\n",
              "    <div>\n",
              "<style scoped>\n",
              "    .dataframe tbody tr th:only-of-type {\n",
              "        vertical-align: middle;\n",
              "    }\n",
              "\n",
              "    .dataframe tbody tr th {\n",
              "        vertical-align: top;\n",
              "    }\n",
              "\n",
              "    .dataframe thead th {\n",
              "        text-align: right;\n",
              "    }\n",
              "</style>\n",
              "<table border=\"1\" class=\"dataframe\">\n",
              "  <thead>\n",
              "    <tr style=\"text-align: right;\">\n",
              "      <th></th>\n",
              "      <th>Date</th>\n",
              "      <th>Close</th>\n",
              "    </tr>\n",
              "  </thead>\n",
              "  <tbody>\n",
              "    <tr>\n",
              "      <th>0</th>\n",
              "      <td>2013-12-18</td>\n",
              "      <td>1.377126</td>\n",
              "    </tr>\n",
              "    <tr>\n",
              "      <th>1</th>\n",
              "      <td>2013-12-19</td>\n",
              "      <td>1.368495</td>\n",
              "    </tr>\n",
              "    <tr>\n",
              "      <th>2</th>\n",
              "      <td>2013-12-20</td>\n",
              "      <td>1.365579</td>\n",
              "    </tr>\n",
              "    <tr>\n",
              "      <th>3</th>\n",
              "      <td>2013-12-23</td>\n",
              "      <td>1.367839</td>\n",
              "    </tr>\n",
              "    <tr>\n",
              "      <th>4</th>\n",
              "      <td>2013-12-24</td>\n",
              "      <td>1.369994</td>\n",
              "    </tr>\n",
              "  </tbody>\n",
              "</table>\n",
              "</div>\n",
              "    <div class=\"colab-df-buttons\">\n",
              "\n",
              "  <div class=\"colab-df-container\">\n",
              "    <button class=\"colab-df-convert\" onclick=\"convertToInteractive('df-60247509-d1ce-40a2-9dc4-fd194841b3b0')\"\n",
              "            title=\"Convert this dataframe to an interactive table.\"\n",
              "            style=\"display:none;\">\n",
              "\n",
              "  <svg xmlns=\"http://www.w3.org/2000/svg\" height=\"24px\" viewBox=\"0 -960 960 960\">\n",
              "    <path d=\"M120-120v-720h720v720H120Zm60-500h600v-160H180v160Zm220 220h160v-160H400v160Zm0 220h160v-160H400v160ZM180-400h160v-160H180v160Zm440 0h160v-160H620v160ZM180-180h160v-160H180v160Zm440 0h160v-160H620v160Z\"/>\n",
              "  </svg>\n",
              "    </button>\n",
              "\n",
              "  <style>\n",
              "    .colab-df-container {\n",
              "      display:flex;\n",
              "      gap: 12px;\n",
              "    }\n",
              "\n",
              "    .colab-df-convert {\n",
              "      background-color: #E8F0FE;\n",
              "      border: none;\n",
              "      border-radius: 50%;\n",
              "      cursor: pointer;\n",
              "      display: none;\n",
              "      fill: #1967D2;\n",
              "      height: 32px;\n",
              "      padding: 0 0 0 0;\n",
              "      width: 32px;\n",
              "    }\n",
              "\n",
              "    .colab-df-convert:hover {\n",
              "      background-color: #E2EBFA;\n",
              "      box-shadow: 0px 1px 2px rgba(60, 64, 67, 0.3), 0px 1px 3px 1px rgba(60, 64, 67, 0.15);\n",
              "      fill: #174EA6;\n",
              "    }\n",
              "\n",
              "    .colab-df-buttons div {\n",
              "      margin-bottom: 4px;\n",
              "    }\n",
              "\n",
              "    [theme=dark] .colab-df-convert {\n",
              "      background-color: #3B4455;\n",
              "      fill: #D2E3FC;\n",
              "    }\n",
              "\n",
              "    [theme=dark] .colab-df-convert:hover {\n",
              "      background-color: #434B5C;\n",
              "      box-shadow: 0px 1px 3px 1px rgba(0, 0, 0, 0.15);\n",
              "      filter: drop-shadow(0px 1px 2px rgba(0, 0, 0, 0.3));\n",
              "      fill: #FFFFFF;\n",
              "    }\n",
              "  </style>\n",
              "\n",
              "    <script>\n",
              "      const buttonEl =\n",
              "        document.querySelector('#df-60247509-d1ce-40a2-9dc4-fd194841b3b0 button.colab-df-convert');\n",
              "      buttonEl.style.display =\n",
              "        google.colab.kernel.accessAllowed ? 'block' : 'none';\n",
              "\n",
              "      async function convertToInteractive(key) {\n",
              "        const element = document.querySelector('#df-60247509-d1ce-40a2-9dc4-fd194841b3b0');\n",
              "        const dataTable =\n",
              "          await google.colab.kernel.invokeFunction('convertToInteractive',\n",
              "                                                    [key], {});\n",
              "        if (!dataTable) return;\n",
              "\n",
              "        const docLinkHtml = 'Like what you see? Visit the ' +\n",
              "          '<a target=\"_blank\" href=https://colab.research.google.com/notebooks/data_table.ipynb>data table notebook</a>'\n",
              "          + ' to learn more about interactive tables.';\n",
              "        element.innerHTML = '';\n",
              "        dataTable['output_type'] = 'display_data';\n",
              "        await google.colab.output.renderOutput(dataTable, element);\n",
              "        const docLink = document.createElement('div');\n",
              "        docLink.innerHTML = docLinkHtml;\n",
              "        element.appendChild(docLink);\n",
              "      }\n",
              "    </script>\n",
              "  </div>\n",
              "\n",
              "\n",
              "<div id=\"df-fe00d94a-117e-475f-92fc-cf800436c38e\">\n",
              "  <button class=\"colab-df-quickchart\" onclick=\"quickchart('df-fe00d94a-117e-475f-92fc-cf800436c38e')\"\n",
              "            title=\"Suggest charts\"\n",
              "            style=\"display:none;\">\n",
              "\n",
              "<svg xmlns=\"http://www.w3.org/2000/svg\" height=\"24px\"viewBox=\"0 0 24 24\"\n",
              "     width=\"24px\">\n",
              "    <g>\n",
              "        <path d=\"M19 3H5c-1.1 0-2 .9-2 2v14c0 1.1.9 2 2 2h14c1.1 0 2-.9 2-2V5c0-1.1-.9-2-2-2zM9 17H7v-7h2v7zm4 0h-2V7h2v10zm4 0h-2v-4h2v4z\"/>\n",
              "    </g>\n",
              "</svg>\n",
              "  </button>\n",
              "\n",
              "<style>\n",
              "  .colab-df-quickchart {\n",
              "      --bg-color: #E8F0FE;\n",
              "      --fill-color: #1967D2;\n",
              "      --hover-bg-color: #E2EBFA;\n",
              "      --hover-fill-color: #174EA6;\n",
              "      --disabled-fill-color: #AAA;\n",
              "      --disabled-bg-color: #DDD;\n",
              "  }\n",
              "\n",
              "  [theme=dark] .colab-df-quickchart {\n",
              "      --bg-color: #3B4455;\n",
              "      --fill-color: #D2E3FC;\n",
              "      --hover-bg-color: #434B5C;\n",
              "      --hover-fill-color: #FFFFFF;\n",
              "      --disabled-bg-color: #3B4455;\n",
              "      --disabled-fill-color: #666;\n",
              "  }\n",
              "\n",
              "  .colab-df-quickchart {\n",
              "    background-color: var(--bg-color);\n",
              "    border: none;\n",
              "    border-radius: 50%;\n",
              "    cursor: pointer;\n",
              "    display: none;\n",
              "    fill: var(--fill-color);\n",
              "    height: 32px;\n",
              "    padding: 0;\n",
              "    width: 32px;\n",
              "  }\n",
              "\n",
              "  .colab-df-quickchart:hover {\n",
              "    background-color: var(--hover-bg-color);\n",
              "    box-shadow: 0 1px 2px rgba(60, 64, 67, 0.3), 0 1px 3px 1px rgba(60, 64, 67, 0.15);\n",
              "    fill: var(--button-hover-fill-color);\n",
              "  }\n",
              "\n",
              "  .colab-df-quickchart-complete:disabled,\n",
              "  .colab-df-quickchart-complete:disabled:hover {\n",
              "    background-color: var(--disabled-bg-color);\n",
              "    fill: var(--disabled-fill-color);\n",
              "    box-shadow: none;\n",
              "  }\n",
              "\n",
              "  .colab-df-spinner {\n",
              "    border: 2px solid var(--fill-color);\n",
              "    border-color: transparent;\n",
              "    border-bottom-color: var(--fill-color);\n",
              "    animation:\n",
              "      spin 1s steps(1) infinite;\n",
              "  }\n",
              "\n",
              "  @keyframes spin {\n",
              "    0% {\n",
              "      border-color: transparent;\n",
              "      border-bottom-color: var(--fill-color);\n",
              "      border-left-color: var(--fill-color);\n",
              "    }\n",
              "    20% {\n",
              "      border-color: transparent;\n",
              "      border-left-color: var(--fill-color);\n",
              "      border-top-color: var(--fill-color);\n",
              "    }\n",
              "    30% {\n",
              "      border-color: transparent;\n",
              "      border-left-color: var(--fill-color);\n",
              "      border-top-color: var(--fill-color);\n",
              "      border-right-color: var(--fill-color);\n",
              "    }\n",
              "    40% {\n",
              "      border-color: transparent;\n",
              "      border-right-color: var(--fill-color);\n",
              "      border-top-color: var(--fill-color);\n",
              "    }\n",
              "    60% {\n",
              "      border-color: transparent;\n",
              "      border-right-color: var(--fill-color);\n",
              "    }\n",
              "    80% {\n",
              "      border-color: transparent;\n",
              "      border-right-color: var(--fill-color);\n",
              "      border-bottom-color: var(--fill-color);\n",
              "    }\n",
              "    90% {\n",
              "      border-color: transparent;\n",
              "      border-bottom-color: var(--fill-color);\n",
              "    }\n",
              "  }\n",
              "</style>\n",
              "\n",
              "  <script>\n",
              "    async function quickchart(key) {\n",
              "      const quickchartButtonEl =\n",
              "        document.querySelector('#' + key + ' button');\n",
              "      quickchartButtonEl.disabled = true;  // To prevent multiple clicks.\n",
              "      quickchartButtonEl.classList.add('colab-df-spinner');\n",
              "      try {\n",
              "        const charts = await google.colab.kernel.invokeFunction(\n",
              "            'suggestCharts', [key], {});\n",
              "      } catch (error) {\n",
              "        console.error('Error during call to suggestCharts:', error);\n",
              "      }\n",
              "      quickchartButtonEl.classList.remove('colab-df-spinner');\n",
              "      quickchartButtonEl.classList.add('colab-df-quickchart-complete');\n",
              "    }\n",
              "    (() => {\n",
              "      let quickchartButtonEl =\n",
              "        document.querySelector('#df-fe00d94a-117e-475f-92fc-cf800436c38e button');\n",
              "      quickchartButtonEl.style.display =\n",
              "        google.colab.kernel.accessAllowed ? 'block' : 'none';\n",
              "    })();\n",
              "  </script>\n",
              "</div>\n",
              "    </div>\n",
              "  </div>\n"
            ]
          },
          "metadata": {},
          "execution_count": 23
        }
      ]
    },
    {
      "cell_type": "markdown",
      "source": [
        "2. Splitting data for training and testing datasets"
      ],
      "metadata": {
        "id": "YXqNpYJcptWR"
      }
    },
    {
      "cell_type": "code",
      "source": [
        "from sklearn.model_selection import train_test_split\n",
        "\n",
        "data1.set_index('Date', inplace=True)\n",
        "data1.sort_index(inplace=True)\n",
        "\n",
        "data1_train, data1_test = train_test_split(data1, test_size=0.2, shuffle=False)\n",
        "\n",
        "data1_train.reset_index(inplace=True)\n",
        "data1_test.reset_index(inplace=True)"
      ],
      "metadata": {
        "id": "n3Uj8P5JYJTQ"
      },
      "execution_count": null,
      "outputs": []
    },
    {
      "cell_type": "code",
      "source": [
        "print(\"Data1_train:\")\n",
        "print(data1_train.head())\n",
        "print(\"\\nData1_test:\")\n",
        "print(data1_test.head())"
      ],
      "metadata": {
        "colab": {
          "base_uri": "https://localhost:8080/"
        },
        "id": "J8-_jsgEYKLF",
        "outputId": "dae399b4-78d9-4112-90ad-c89ef6a71836"
      },
      "execution_count": null,
      "outputs": [
        {
          "output_type": "stream",
          "name": "stdout",
          "text": [
            "Data1_train:\n",
            "         Date     Close\n",
            "0  2013-12-18  1.377126\n",
            "1  2013-12-19  1.368495\n",
            "2  2013-12-20  1.365579\n",
            "3  2013-12-23  1.367839\n",
            "4  2013-12-24  1.369994\n",
            "\n",
            "Data1_test:\n",
            "         Date     Close\n",
            "0  2021-12-17  1.133414\n",
            "1  2021-12-20  1.124354\n",
            "2  2021-12-21  1.127752\n",
            "3  2021-12-22  1.128757\n",
            "4  2021-12-23  1.132888\n"
          ]
        }
      ]
    },
    {
      "cell_type": "markdown",
      "source": [
        "3. Adding a normalized data variable"
      ],
      "metadata": {
        "id": "WjxyUxyqqO2J"
      }
    },
    {
      "cell_type": "code",
      "source": [
        "from sklearn.preprocessing import MinMaxScaler\n",
        "\n",
        "data2_train = data1_train.copy()\n",
        "data2_test = data1_test.copy()\n",
        "\n",
        "scaler = MinMaxScaler(feature_range=(0, 1))\n",
        "scaler.fit(data1_train[['Close']])\n",
        "\n",
        "data2_train['Close_N'] = scaler.transform(data1_train[['Close']])\n",
        "data2_test['Close_N'] = scaler.transform(data1_test[['Close']])\n",
        "\n",
        "data2_train.reset_index(inplace=True)\n",
        "data2_test.reset_index(inplace=True)"
      ],
      "metadata": {
        "id": "MdvhFvwlYTre"
      },
      "execution_count": null,
      "outputs": []
    },
    {
      "cell_type": "code",
      "source": [
        "print(\"data2_train:\")\n",
        "print(data2_train.head())\n",
        "print(data2_train.columns)\n",
        "print(\"\\ndata2_test:\")\n",
        "print(data2_test.head())\n",
        "print(data2_test.columns)"
      ],
      "metadata": {
        "colab": {
          "base_uri": "https://localhost:8080/"
        },
        "id": "BN5joFZDYXxB",
        "outputId": "00c1111b-6bef-4098-bed6-439f5ff5eb61"
      },
      "execution_count": null,
      "outputs": [
        {
          "output_type": "stream",
          "name": "stdout",
          "text": [
            "data2_train:\n",
            "   index        Date     Close   Close_N\n",
            "0      0  2013-12-18  1.377126  0.954915\n",
            "1      1  2013-12-19  1.368495  0.930536\n",
            "2      2  2013-12-20  1.365579  0.922300\n",
            "3      3  2013-12-23  1.367839  0.928683\n",
            "4      4  2013-12-24  1.369994  0.934770\n",
            "Index(['index', 'Date', 'Close', 'Close_N'], dtype='object')\n",
            "\n",
            "data2_test:\n",
            "   index        Date     Close   Close_N\n",
            "0      0  2021-12-17  1.133414  0.266543\n",
            "1      1  2021-12-20  1.124354  0.240952\n",
            "2      2  2021-12-21  1.127752  0.250550\n",
            "3      3  2021-12-22  1.128757  0.253389\n",
            "4      4  2021-12-23  1.132888  0.265057\n",
            "Index(['index', 'Date', 'Close', 'Close_N'], dtype='object')\n"
          ]
        }
      ]
    },
    {
      "cell_type": "code",
      "source": [
        "import pandas as pd\n",
        "\n",
        "data2_train['Close_N'] = data2_train['Close_N'].fillna((data2_train['Close_N'].shift() + data2_train['Close_N'].shift(-1)) / 2)\n",
        "data3_train = data2_train.copy()\n",
        "print(data3_train.head())"
      ],
      "metadata": {
        "colab": {
          "base_uri": "https://localhost:8080/"
        },
        "id": "jIjj_xJ2YcEo",
        "outputId": "833e40ed-a9f7-4d9e-cd52-d465917ab24f"
      },
      "execution_count": null,
      "outputs": [
        {
          "output_type": "stream",
          "name": "stdout",
          "text": [
            "   index        Date     Close   Close_N\n",
            "0      0  2013-12-18  1.377126  0.954915\n",
            "1      1  2013-12-19  1.368495  0.930536\n",
            "2      2  2013-12-20  1.365579  0.922300\n",
            "3      3  2013-12-23  1.367839  0.928683\n",
            "4      4  2013-12-24  1.369994  0.934770\n"
          ]
        }
      ]
    },
    {
      "cell_type": "markdown",
      "source": [
        "4. Training the data with LSTM model"
      ],
      "metadata": {
        "id": "UWEpfm-nqrrS"
      }
    },
    {
      "cell_type": "code",
      "source": [
        "import numpy as np\n",
        "import tensorflow as tf\n",
        "from tensorflow.keras.models import Sequential\n",
        "from tensorflow.keras.layers import LSTM, Dense\n",
        "\n",
        "time_steps = 5\n",
        "\n",
        "def create_time_series_dataset(data, time_steps):\n",
        "    X, y = [], []\n",
        "    for i in range(len(data) - time_steps):\n",
        "        X.append(data.iloc[i:(i + time_steps)].values)\n",
        "        y.append(data.iloc[i + time_steps].values)\n",
        "    return np.array(X), np.array(y)\n",
        "\n",
        "X_train, y_train = create_time_series_dataset(data3_train[['Close_N']], time_steps)\n",
        "X_train = np.reshape(X_train, (X_train.shape[0], X_train.shape[1], 1))\n",
        "\n",
        "model = Sequential()\n",
        "model.add(LSTM(units=50, return_sequences=True, input_shape=(X_train.shape[1], 1)))\n",
        "model.add(LSTM(units=50))\n",
        "model.add(Dense(units=1))\n",
        "model.compile(optimizer='adam', loss='mean_squared_error')\n",
        "\n",
        "model.fit(X_train, y_train, epochs=100, batch_size=32)"
      ],
      "metadata": {
        "colab": {
          "base_uri": "https://localhost:8080/"
        },
        "id": "hFkyH2_bYeu2",
        "outputId": "e944d587-75e8-4ef5-bfcd-33f536ffe790"
      },
      "execution_count": null,
      "outputs": [
        {
          "output_type": "stream",
          "name": "stdout",
          "text": [
            "Epoch 1/100\n",
            "66/66 [==============================] - 6s 8ms/step - loss: 0.0265\n",
            "Epoch 2/100\n",
            "66/66 [==============================] - 1s 8ms/step - loss: 8.6148e-04\n",
            "Epoch 3/100\n",
            "66/66 [==============================] - 1s 8ms/step - loss: 7.3775e-04\n",
            "Epoch 4/100\n",
            "66/66 [==============================] - 1s 8ms/step - loss: 7.0043e-04\n",
            "Epoch 5/100\n",
            "66/66 [==============================] - 1s 8ms/step - loss: 6.8060e-04\n",
            "Epoch 6/100\n",
            "66/66 [==============================] - 1s 8ms/step - loss: 6.8955e-04\n",
            "Epoch 7/100\n",
            "66/66 [==============================] - 1s 8ms/step - loss: 6.6278e-04\n",
            "Epoch 8/100\n",
            "66/66 [==============================] - 1s 8ms/step - loss: 6.5756e-04\n",
            "Epoch 9/100\n",
            "66/66 [==============================] - 1s 8ms/step - loss: 6.7023e-04\n",
            "Epoch 10/100\n",
            "66/66 [==============================] - 1s 8ms/step - loss: 6.8670e-04\n",
            "Epoch 11/100\n",
            "66/66 [==============================] - 1s 8ms/step - loss: 8.0297e-04\n",
            "Epoch 12/100\n",
            "66/66 [==============================] - 1s 8ms/step - loss: 6.6847e-04\n",
            "Epoch 13/100\n",
            "66/66 [==============================] - 1s 8ms/step - loss: 6.4975e-04\n",
            "Epoch 14/100\n",
            "66/66 [==============================] - 1s 8ms/step - loss: 6.7021e-04\n",
            "Epoch 15/100\n",
            "66/66 [==============================] - 1s 8ms/step - loss: 6.5122e-04\n",
            "Epoch 16/100\n",
            "66/66 [==============================] - 1s 8ms/step - loss: 6.2791e-04\n",
            "Epoch 17/100\n",
            "66/66 [==============================] - 1s 8ms/step - loss: 6.4530e-04\n",
            "Epoch 18/100\n",
            "66/66 [==============================] - 1s 11ms/step - loss: 6.6966e-04\n",
            "Epoch 19/100\n",
            "66/66 [==============================] - 2s 24ms/step - loss: 6.6269e-04\n",
            "Epoch 20/100\n",
            "66/66 [==============================] - 1s 12ms/step - loss: 6.1604e-04\n",
            "Epoch 21/100\n",
            "66/66 [==============================] - 1s 14ms/step - loss: 6.1000e-04\n",
            "Epoch 22/100\n",
            "66/66 [==============================] - 1s 16ms/step - loss: 6.2440e-04\n",
            "Epoch 23/100\n",
            "66/66 [==============================] - 1s 14ms/step - loss: 6.3275e-04\n",
            "Epoch 24/100\n",
            "66/66 [==============================] - 1s 14ms/step - loss: 6.0507e-04\n",
            "Epoch 25/100\n",
            "66/66 [==============================] - 1s 13ms/step - loss: 5.7290e-04\n",
            "Epoch 26/100\n",
            "66/66 [==============================] - 1s 14ms/step - loss: 5.9669e-04\n",
            "Epoch 27/100\n",
            "66/66 [==============================] - 1s 14ms/step - loss: 5.8694e-04\n",
            "Epoch 28/100\n",
            "66/66 [==============================] - 1s 13ms/step - loss: 5.6813e-04\n",
            "Epoch 29/100\n",
            "66/66 [==============================] - 1s 12ms/step - loss: 5.6804e-04\n",
            "Epoch 30/100\n",
            "66/66 [==============================] - 2s 24ms/step - loss: 6.1348e-04\n",
            "Epoch 31/100\n",
            "66/66 [==============================] - 2s 27ms/step - loss: 6.6255e-04\n",
            "Epoch 32/100\n",
            "66/66 [==============================] - 1s 11ms/step - loss: 5.4992e-04\n",
            "Epoch 33/100\n",
            "66/66 [==============================] - 1s 8ms/step - loss: 5.6023e-04\n",
            "Epoch 34/100\n",
            "66/66 [==============================] - 1s 8ms/step - loss: 5.2430e-04\n",
            "Epoch 35/100\n",
            "66/66 [==============================] - 1s 8ms/step - loss: 5.1265e-04\n",
            "Epoch 36/100\n",
            "66/66 [==============================] - 1s 9ms/step - loss: 4.9539e-04\n",
            "Epoch 37/100\n",
            "66/66 [==============================] - 1s 8ms/step - loss: 5.1375e-04\n",
            "Epoch 38/100\n",
            "66/66 [==============================] - 1s 9ms/step - loss: 4.9913e-04\n",
            "Epoch 39/100\n",
            "66/66 [==============================] - 1s 8ms/step - loss: 4.7088e-04\n",
            "Epoch 40/100\n",
            "66/66 [==============================] - 1s 9ms/step - loss: 4.9497e-04\n",
            "Epoch 41/100\n",
            "66/66 [==============================] - 1s 8ms/step - loss: 4.6015e-04\n",
            "Epoch 42/100\n",
            "66/66 [==============================] - 1s 8ms/step - loss: 5.0688e-04\n",
            "Epoch 43/100\n",
            "66/66 [==============================] - 1s 10ms/step - loss: 4.3712e-04\n",
            "Epoch 44/100\n",
            "66/66 [==============================] - 1s 12ms/step - loss: 4.6312e-04\n",
            "Epoch 45/100\n",
            "66/66 [==============================] - 1s 11ms/step - loss: 4.0589e-04\n",
            "Epoch 46/100\n",
            "66/66 [==============================] - 1s 12ms/step - loss: 4.1405e-04\n",
            "Epoch 47/100\n",
            "66/66 [==============================] - 1s 12ms/step - loss: 3.8426e-04\n",
            "Epoch 48/100\n",
            "66/66 [==============================] - 1s 12ms/step - loss: 3.8002e-04\n",
            "Epoch 49/100\n",
            "66/66 [==============================] - 1s 12ms/step - loss: 3.8389e-04\n",
            "Epoch 50/100\n",
            "66/66 [==============================] - 1s 12ms/step - loss: 3.5558e-04\n",
            "Epoch 51/100\n",
            "66/66 [==============================] - 1s 11ms/step - loss: 3.4467e-04\n",
            "Epoch 52/100\n",
            "66/66 [==============================] - 1s 8ms/step - loss: 3.5468e-04\n",
            "Epoch 53/100\n",
            "66/66 [==============================] - 1s 8ms/step - loss: 3.2980e-04\n",
            "Epoch 54/100\n",
            "66/66 [==============================] - 1s 8ms/step - loss: 3.3037e-04\n",
            "Epoch 55/100\n",
            "66/66 [==============================] - 1s 8ms/step - loss: 3.3360e-04\n",
            "Epoch 56/100\n",
            "66/66 [==============================] - 1s 9ms/step - loss: 3.7896e-04\n",
            "Epoch 57/100\n",
            "66/66 [==============================] - 1s 8ms/step - loss: 3.1833e-04\n",
            "Epoch 58/100\n",
            "66/66 [==============================] - 1s 8ms/step - loss: 3.3188e-04\n",
            "Epoch 59/100\n",
            "66/66 [==============================] - 1s 8ms/step - loss: 3.6531e-04\n",
            "Epoch 60/100\n",
            "66/66 [==============================] - 1s 8ms/step - loss: 3.2695e-04\n",
            "Epoch 61/100\n",
            "66/66 [==============================] - 1s 8ms/step - loss: 2.9439e-04\n",
            "Epoch 62/100\n",
            "66/66 [==============================] - 1s 8ms/step - loss: 2.9428e-04\n",
            "Epoch 63/100\n",
            "66/66 [==============================] - 1s 8ms/step - loss: 3.0343e-04\n",
            "Epoch 64/100\n",
            "66/66 [==============================] - 1s 8ms/step - loss: 2.8426e-04\n",
            "Epoch 65/100\n",
            "66/66 [==============================] - 1s 8ms/step - loss: 4.4839e-04\n",
            "Epoch 66/100\n",
            "66/66 [==============================] - 1s 8ms/step - loss: 2.9426e-04\n",
            "Epoch 67/100\n",
            "66/66 [==============================] - 1s 8ms/step - loss: 2.8133e-04\n",
            "Epoch 68/100\n",
            "66/66 [==============================] - 1s 8ms/step - loss: 2.7681e-04\n",
            "Epoch 69/100\n",
            "66/66 [==============================] - 1s 8ms/step - loss: 2.7951e-04\n",
            "Epoch 70/100\n",
            "66/66 [==============================] - 1s 12ms/step - loss: 2.7708e-04\n",
            "Epoch 71/100\n",
            "66/66 [==============================] - 1s 12ms/step - loss: 2.7608e-04\n",
            "Epoch 72/100\n",
            "66/66 [==============================] - 1s 12ms/step - loss: 2.7457e-04\n",
            "Epoch 73/100\n",
            "66/66 [==============================] - 1s 13ms/step - loss: 2.8670e-04\n",
            "Epoch 74/100\n",
            "66/66 [==============================] - 1s 12ms/step - loss: 2.7680e-04\n",
            "Epoch 75/100\n",
            "66/66 [==============================] - 1s 12ms/step - loss: 2.7738e-04\n",
            "Epoch 76/100\n",
            "66/66 [==============================] - 1s 12ms/step - loss: 2.6558e-04\n",
            "Epoch 77/100\n",
            "66/66 [==============================] - 1s 11ms/step - loss: 2.7444e-04\n",
            "Epoch 78/100\n",
            "66/66 [==============================] - 1s 8ms/step - loss: 2.7458e-04\n",
            "Epoch 79/100\n",
            "66/66 [==============================] - 1s 8ms/step - loss: 2.6851e-04\n",
            "Epoch 80/100\n",
            "66/66 [==============================] - 1s 8ms/step - loss: 2.6658e-04\n",
            "Epoch 81/100\n",
            "66/66 [==============================] - 1s 8ms/step - loss: 2.6155e-04\n",
            "Epoch 82/100\n",
            "66/66 [==============================] - 1s 8ms/step - loss: 2.6313e-04\n",
            "Epoch 83/100\n",
            "66/66 [==============================] - 1s 8ms/step - loss: 2.6403e-04\n",
            "Epoch 84/100\n",
            "66/66 [==============================] - 1s 8ms/step - loss: 2.6669e-04\n",
            "Epoch 85/100\n",
            "66/66 [==============================] - 1s 8ms/step - loss: 2.6342e-04\n",
            "Epoch 86/100\n",
            "66/66 [==============================] - 1s 8ms/step - loss: 2.9929e-04\n",
            "Epoch 87/100\n",
            "66/66 [==============================] - 1s 8ms/step - loss: 2.7106e-04\n",
            "Epoch 88/100\n",
            "66/66 [==============================] - 1s 8ms/step - loss: 2.5792e-04\n",
            "Epoch 89/100\n",
            "66/66 [==============================] - 1s 8ms/step - loss: 2.9870e-04\n",
            "Epoch 90/100\n",
            "66/66 [==============================] - 1s 8ms/step - loss: 2.5660e-04\n",
            "Epoch 91/100\n",
            "66/66 [==============================] - 1s 8ms/step - loss: 2.5957e-04\n",
            "Epoch 92/100\n",
            "66/66 [==============================] - 1s 8ms/step - loss: 2.7556e-04\n",
            "Epoch 93/100\n",
            "66/66 [==============================] - 1s 8ms/step - loss: 3.0799e-04\n",
            "Epoch 94/100\n",
            "66/66 [==============================] - 1s 8ms/step - loss: 3.1773e-04\n",
            "Epoch 95/100\n",
            "66/66 [==============================] - 1s 8ms/step - loss: 2.6400e-04\n",
            "Epoch 96/100\n",
            "66/66 [==============================] - 1s 11ms/step - loss: 2.6064e-04\n",
            "Epoch 97/100\n",
            "66/66 [==============================] - 1s 12ms/step - loss: 2.6472e-04\n",
            "Epoch 98/100\n",
            "66/66 [==============================] - 1s 12ms/step - loss: 2.5824e-04\n",
            "Epoch 99/100\n",
            "66/66 [==============================] - 1s 12ms/step - loss: 2.5500e-04\n",
            "Epoch 100/100\n",
            "66/66 [==============================] - 1s 12ms/step - loss: 2.5506e-04\n"
          ]
        },
        {
          "output_type": "execute_result",
          "data": {
            "text/plain": [
              "<keras.src.callbacks.History at 0x792acd216020>"
            ]
          },
          "metadata": {},
          "execution_count": 29
        }
      ]
    },
    {
      "cell_type": "code",
      "source": [
        "X_test, y_test = create_time_series_dataset(data2_test[['Close_N']], time_steps)\n",
        "X_test = np.reshape(X_test, (X_test.shape[0], X_test.shape[1], 1))"
      ],
      "metadata": {
        "id": "5a7wnB1Z7CQ3"
      },
      "execution_count": null,
      "outputs": []
    },
    {
      "cell_type": "markdown",
      "source": [
        "5. Creating predictive values in test dataset"
      ],
      "metadata": {
        "id": "f-mbwsWSsP2u"
      }
    },
    {
      "cell_type": "code",
      "source": [
        "predictions_df = pd.DataFrame({\n",
        "    'Date': data2_test['Date'].iloc[:len(model.predict(X_test))],\n",
        "    'Close': data2_test['Close'].iloc[:len(model.predict(X_test))],\n",
        "    'Close_N': data2_test['Close_N'].iloc[:len(model.predict(X_test))],\n",
        "    'Close_P': model.predict(X_test).flatten()\n",
        "})\n",
        "\n",
        "print(predictions_df)"
      ],
      "metadata": {
        "colab": {
          "base_uri": "https://localhost:8080/"
        },
        "id": "rzkvGfMH7CXw",
        "outputId": "e3fe86cf-734a-4770-9bdf-54e8b0d6ed4e"
      },
      "execution_count": null,
      "outputs": [
        {
          "output_type": "stream",
          "name": "stdout",
          "text": [
            "17/17 [==============================] - 1s 3ms/step\n",
            "17/17 [==============================] - 0s 3ms/step\n",
            "17/17 [==============================] - 0s 3ms/step\n",
            "17/17 [==============================] - 0s 4ms/step\n",
            "           Date     Close   Close_N   Close_P\n",
            "0    2021-12-17  1.133414  0.266543  0.261314\n",
            "1    2021-12-20  1.124354  0.240952  0.261363\n",
            "2    2021-12-21  1.127752  0.250550  0.260358\n",
            "3    2021-12-22  1.128757  0.253389  0.261751\n",
            "4    2021-12-23  1.132888  0.265057  0.257888\n",
            "..          ...       ...       ...       ...\n",
            "512  2023-12-05  1.083776  0.126338  0.108895\n",
            "513  2023-12-06  1.079366  0.113882  0.108293\n",
            "514  2023-12-07  1.076670  0.106267  0.116555\n",
            "515  2023-12-08  1.079214  0.113453  0.139910\n",
            "516  2023-12-11  1.076577  0.106005  0.169664\n",
            "\n",
            "[517 rows x 4 columns]\n"
          ]
        }
      ]
    },
    {
      "cell_type": "code",
      "source": [
        "predictions_df['Close_P'] = predictions_df['Close_P'].shift(5)"
      ],
      "metadata": {
        "id": "LWasO9tc9bnT"
      },
      "execution_count": null,
      "outputs": []
    },
    {
      "cell_type": "markdown",
      "source": [
        "6. Reversing the predictive values to the original scale"
      ],
      "metadata": {
        "id": "vmeaOllOrj6N"
      }
    },
    {
      "cell_type": "code",
      "source": [
        "predictions_df['Close_P_original_scale'] = scaler.inverse_transform(predictions_df['Close_P'].values.reshape(-1, 1))\n",
        "predictions_df.sort_values(by='Date', inplace=True)\n",
        "\n",
        "print(predictions_df[['Date', 'Close', 'Close_N', 'Close_P', 'Close_P_original_scale']])"
      ],
      "metadata": {
        "colab": {
          "base_uri": "https://localhost:8080/"
        },
        "id": "n18VGNGn8S4K",
        "outputId": "2311486a-783e-464a-e08e-5a85767a1417"
      },
      "execution_count": null,
      "outputs": [
        {
          "output_type": "stream",
          "name": "stdout",
          "text": [
            "           Date     Close   Close_N   Close_P  Close_P_original_scale\n",
            "0    2021-12-17  1.133414  0.266543       NaN                     NaN\n",
            "1    2021-12-20  1.124354  0.240952       NaN                     NaN\n",
            "2    2021-12-21  1.127752  0.250550       NaN                     NaN\n",
            "3    2021-12-22  1.128757  0.253389       NaN                     NaN\n",
            "4    2021-12-23  1.132888  0.265057       NaN                     NaN\n",
            "..          ...       ...       ...       ...                     ...\n",
            "512  2023-12-05  1.083776  0.126338  0.140450                1.088772\n",
            "513  2023-12-06  1.079366  0.113882  0.128101                1.084400\n",
            "514  2023-12-07  1.076670  0.106267  0.115835                1.080057\n",
            "515  2023-12-08  1.079214  0.113453  0.108095                1.077317\n",
            "516  2023-12-11  1.076577  0.106005  0.114348                1.079531\n",
            "\n",
            "[517 rows x 5 columns]\n"
          ]
        }
      ]
    },
    {
      "cell_type": "code",
      "source": [
        "final_data = predictions_df.copy()"
      ],
      "metadata": {
        "id": "KPEdxcpg_bb_"
      },
      "execution_count": null,
      "outputs": []
    },
    {
      "cell_type": "markdown",
      "source": [
        "7. Comparing the realistic data with predicted values using visualization"
      ],
      "metadata": {
        "id": "OuCDR9f_r_wS"
      }
    },
    {
      "cell_type": "code",
      "source": [
        "import matplotlib.pyplot as plt\n",
        "\n",
        "predictions_df.set_index('Date', inplace=True)\n",
        "\n",
        "selected_dates = ['2022-03-31', '2022-06-30', '2022-09-30', '2022-12-30', '2023-03-31', '2023-06-30', '2023-09-29']\n",
        "\n",
        "plt.figure(figsize=(14, 7))\n",
        "plt.plot(predictions_df['Close'], label='Close', color='blue')\n",
        "plt.plot(predictions_df['Close_P_original_scale'], label='Close (model)', color='red')\n",
        "\n",
        "plt.xticks(selected_dates, rotation=45)\n",
        "\n",
        "plt.legend()\n",
        "plt.title('Tested data - Close vs. Close (model)')\n",
        "plt.xlabel('Date')\n",
        "plt.ylabel('Close Value')\n",
        "\n",
        "plt.show()"
      ],
      "metadata": {
        "colab": {
          "base_uri": "https://localhost:8080/",
          "height": 569
        },
        "id": "CzD51iie9vmg",
        "outputId": "60b512a5-6080-4465-dee0-651f366e323d"
      },
      "execution_count": null,
      "outputs": [
        {
          "output_type": "display_data",
          "data": {
            "text/plain": [
              "<Figure size 1400x700 with 1 Axes>"
            ],
            "image/png": "[encoded data removed]"
          },
          "metadata": {}
        }
      ]
    },
    {
      "cell_type": "markdown",
      "source": [
        "8. Cleaning dataset"
      ],
      "metadata": {
        "id": "qeZfIPrhsiaj"
      }
    },
    {
      "cell_type": "code",
      "source": [
        "final_data = final_data.iloc[5:].reset_index(drop=True)\n",
        "final_data.drop(['Close_N', 'Close_P'], axis=1, inplace=True)\n",
        "\n",
        "print(final_data.head())"
      ],
      "metadata": {
        "colab": {
          "base_uri": "https://localhost:8080/"
        },
        "id": "G_2RNM1Z-Bxp",
        "outputId": "cf776df9-88f5-42b8-fa18-8eca247ee920"
      },
      "execution_count": null,
      "outputs": [
        {
          "output_type": "stream",
          "name": "stdout",
          "text": [
            "         Date     Close  Close_P_original_scale\n",
            "0  2021-12-24  1.132734                1.131563\n",
            "1  2021-12-27  1.132426                1.131580\n",
            "2  2021-12-28  1.133003                1.131224\n",
            "3  2021-12-29  1.131478                1.131717\n",
            "4  2021-12-30  1.136015                1.130350\n"
          ]
        }
      ]
    },
    {
      "cell_type": "code",
      "source": [
        "print(final_data[['Date', 'Close', 'Close_P_original_scale']])"
      ],
      "metadata": {
        "colab": {
          "base_uri": "https://localhost:8080/"
        },
        "id": "cejsd-th_um0",
        "outputId": "617a9076-5098-4a10-9dcb-d312d9681f06"
      },
      "execution_count": null,
      "outputs": [
        {
          "output_type": "stream",
          "name": "stdout",
          "text": [
            "           Date     Close  Close_P_original_scale\n",
            "0    2021-12-24  1.132734                1.131563\n",
            "1    2021-12-27  1.132426                1.131580\n",
            "2    2021-12-28  1.133003                1.131224\n",
            "3    2021-12-29  1.131478                1.131717\n",
            "4    2021-12-30  1.136015                1.130350\n",
            "..          ...       ...                     ...\n",
            "507  2023-12-05  1.083776                1.088772\n",
            "508  2023-12-06  1.079366                1.084400\n",
            "509  2023-12-07  1.076670                1.080057\n",
            "510  2023-12-08  1.079214                1.077317\n",
            "511  2023-12-11  1.076577                1.079531\n",
            "\n",
            "[512 rows x 3 columns]\n"
          ]
        }
      ]
    },
    {
      "cell_type": "markdown",
      "source": [
        "9. Testing the effectiveness of the model"
      ],
      "metadata": {
        "id": "7eJzQyJYs9gZ"
      }
    },
    {
      "cell_type": "code",
      "source": [
        "from sklearn.metrics import mean_squared_error, mean_absolute_error\n",
        "from sklearn.metrics import mean_absolute_percentage_error\n",
        "from sklearn.metrics import r2_score\n",
        "import numpy as np\n",
        "\n",
        "valid_data = final_data.dropna(subset=['Close', 'Close_P_original_scale'])\n",
        "actual_values = valid_data['Close']\n",
        "predicted_values = valid_data['Close_P_original_scale']\n",
        "\n",
        "rmse = np.sqrt(mean_squared_error(actual_values, predicted_values))\n",
        "print(f\"RMSE: {rmse}\")\n",
        "\n",
        "mae = mean_absolute_error(actual_values, predicted_values)\n",
        "print(f\"MAE: {mae}\")\n",
        "\n",
        "mape = mean_absolute_percentage_error(actual_values, predicted_values)\n",
        "print(f\"MAPE: {mape}\")\n",
        "\n",
        "smape = 2 * np.mean(np.abs(predicted_values - actual_values) / (np.abs(predicted_values) + np.abs(actual_values)))\n",
        "print(f\"SMAPE: {smape}\")\n",
        "\n",
        "r2 = r2_score(actual_values, predicted_values)\n",
        "print(f\"R-squared: {r2}\")"
      ],
      "metadata": {
        "colab": {
          "base_uri": "https://localhost:8080/"
        },
        "id": "7vn_rEeZcgPl",
        "outputId": "bd0b6c9e-d4a6-4a83-bb83-0092e94c9341"
      },
      "execution_count": null,
      "outputs": [
        {
          "output_type": "stream",
          "name": "stdout",
          "text": [
            "RMSE: 0.006083103737104555\n",
            "MAE: 0.004639093257011254\n",
            "MAPE: 0.004394268219791667\n",
            "SMAPE: 0.004386971632029071\n",
            "R-squared: 0.9771207412721555\n"
          ]
        }
      ]
    },
    {
      "cell_type": "markdown",
      "source": [
        "10. Preparing dataset for forecasting"
      ],
      "metadata": {
        "id": "KEDLFiJQtR7L"
      }
    },
    {
      "cell_type": "code",
      "source": [
        "import pandas as pd\n",
        "\n",
        "new_records = [\n",
        "    [512, '2023-12-12', 1.076658, 1.076658],\n",
        "    [513, '2023-12-13', 1.079867, 1.079867],\n",
        "    [514, '2023-12-14', 1.088613, 1.088613],\n",
        "    [515, '2023-12-15', 1.099360, 1.099360],\n",
        "    [516, '2023-12-18', 1.092299, 1.092299]\n",
        "]\n",
        "\n",
        "new_records_df = pd.DataFrame(new_records, columns=['index', 'Date', 'Close', 'Close_P_original_scale'])\n",
        "final_data = final_data.append(new_records_df, ignore_index=True)"
      ],
      "metadata": {
        "colab": {
          "base_uri": "https://localhost:8080/"
        },
        "id": "OdXOanmKCMk2",
        "outputId": "76ec779e-a8b5-48b7-fc8e-17292bd03594"
      },
      "execution_count": null,
      "outputs": [
        {
          "output_type": "stream",
          "name": "stderr",
          "text": [
            "<ipython-input-38-03641189a325>:12: FutureWarning: The frame.append method is deprecated and will be removed from pandas in a future version. Use pandas.concat instead.\n",
            "  final_data = final_data.append(new_records_df, ignore_index=True)\n"
          ]
        }
      ]
    },
    {
      "cell_type": "code",
      "source": [
        "final_data = final_data.drop(columns=['index'], errors='ignore')\n",
        "final_data['time'] = np.arange(1, len(final_data) + 1)\n",
        "\n",
        "print(final_data)"
      ],
      "metadata": {
        "colab": {
          "base_uri": "https://localhost:8080/"
        },
        "id": "OvYptEBPUTRj",
        "outputId": "dd1c98f5-389b-42cb-fec1-34b34e813900"
      },
      "execution_count": null,
      "outputs": [
        {
          "output_type": "stream",
          "name": "stdout",
          "text": [
            "           Date     Close  Close_P_original_scale  time\n",
            "0    2021-12-24  1.132734                1.131563     1\n",
            "1    2021-12-27  1.132426                1.131580     2\n",
            "2    2021-12-28  1.133003                1.131224     3\n",
            "3    2021-12-29  1.131478                1.131717     4\n",
            "4    2021-12-30  1.136015                1.130350     5\n",
            "..          ...       ...                     ...   ...\n",
            "512  2023-12-12  1.076658                1.076658   513\n",
            "513  2023-12-13  1.079867                1.079867   514\n",
            "514  2023-12-14  1.088613                1.088613   515\n",
            "515  2023-12-15  1.099360                1.099360   516\n",
            "516  2023-12-18  1.092299                1.092299   517\n",
            "\n",
            "[517 rows x 4 columns]\n"
          ]
        }
      ]
    },
    {
      "cell_type": "markdown",
      "source": [
        "11. Time series forecasting based on last 60 days"
      ],
      "metadata": {
        "id": "jO2iMLb0thDS"
      }
    },
    {
      "cell_type": "code",
      "source": [
        "import pandas as pd\n",
        "from sklearn.linear_model import LinearRegression\n",
        "\n",
        "last_60_records = final_data.iloc[-60:]\n",
        "\n",
        "X2_train = last_60_records[['time']]\n",
        "y2_train = last_60_records['Close_P_original_scale']\n",
        "model = LinearRegression()\n",
        "model.fit(X2_train, y2_train)\n",
        "\n",
        "new_data = pd.DataFrame({'time': [518, 519, 520, 521, 522]})\n",
        "\n",
        "predicted_x = model.predict(new_data)\n",
        "\n",
        "new_records = pd.DataFrame({'time': [518, 519, 520, 521, 522], 'Close_P_original_scale': predicted_x})\n",
        "\n",
        "final_data = pd.concat([final_data, new_records], ignore_index=True)\n",
        "\n",
        "print(final_data)"
      ],
      "metadata": {
        "colab": {
          "base_uri": "https://localhost:8080/"
        },
        "id": "l1OmpWYyU-sw",
        "outputId": "312b90fc-2a1a-47c7-dfeb-1b8c63deec62"
      },
      "execution_count": null,
      "outputs": [
        {
          "output_type": "stream",
          "name": "stdout",
          "text": [
            "           Date     Close  Close_P_original_scale  time\n",
            "0    2021-12-24  1.132734                1.131563     1\n",
            "1    2021-12-27  1.132426                1.131580     2\n",
            "2    2021-12-28  1.133003                1.131224     3\n",
            "3    2021-12-29  1.131478                1.131717     4\n",
            "4    2021-12-30  1.136015                1.130350     5\n",
            "..          ...       ...                     ...   ...\n",
            "517         NaN       NaN                1.094157   518\n",
            "518         NaN       NaN                1.094894   519\n",
            "519         NaN       NaN                1.095631   520\n",
            "520         NaN       NaN                1.096368   521\n",
            "521         NaN       NaN                1.097105   522\n",
            "\n",
            "[522 rows x 4 columns]\n"
          ]
        }
      ]
    },
    {
      "cell_type": "code",
      "source": [
        "final_data.loc[517:521, 'Date'] = ['2023-12-19', '2023-12-20', '2023-12-21', '2023-12-22', '2023-12-25']\n",
        "\n",
        "print(final_data)\n"
      ],
      "metadata": {
        "colab": {
          "base_uri": "https://localhost:8080/"
        },
        "id": "wpkLydDLWU_r",
        "outputId": "c3d14678-2af1-482e-e0b5-77956c20b6a1"
      },
      "execution_count": null,
      "outputs": [
        {
          "output_type": "stream",
          "name": "stdout",
          "text": [
            "           Date     Close  Close_P_original_scale  time\n",
            "0    2021-12-24  1.132734                1.131563     1\n",
            "1    2021-12-27  1.132426                1.131580     2\n",
            "2    2021-12-28  1.133003                1.131224     3\n",
            "3    2021-12-29  1.131478                1.131717     4\n",
            "4    2021-12-30  1.136015                1.130350     5\n",
            "..          ...       ...                     ...   ...\n",
            "517  2023-12-19       NaN                1.094157   518\n",
            "518  2023-12-20       NaN                1.094894   519\n",
            "519  2023-12-21       NaN                1.095631   520\n",
            "520  2023-12-22       NaN                1.096368   521\n",
            "521  2023-12-25       NaN                1.097105   522\n",
            "\n",
            "[522 rows x 4 columns]\n"
          ]
        }
      ]
    },
    {
      "cell_type": "markdown",
      "source": [
        "12. Visualization the final dataset"
      ],
      "metadata": {
        "id": "U6N7n8DyuAlc"
      }
    },
    {
      "cell_type": "code",
      "source": [
        "import matplotlib.pyplot as plt\n",
        "\n",
        "final_data.set_index('Date', inplace=True)\n",
        "\n",
        "selected_dates = ['2022-03-31', '2022-06-30', '2022-09-30', '2022-12-30', '2023-03-31', '2023-06-30', '2023-09-29']\n",
        "\n",
        "plt.figure(figsize=(14, 7))\n",
        "plt.plot(final_data['Close'], label='Close', color='blue')\n",
        "plt.plot(final_data['Close_P_original_scale'], label='Close (model)', color='red')\n",
        "plt.scatter(final_data.index[-5:], final_data['Close_P_original_scale'].iloc[-5:], color='orange', label='Close (predicted)')\n",
        "plt.xticks(selected_dates, rotation=45)\n",
        "\n",
        "plt.legend()\n",
        "plt.title('Tested data - Close vs. Close (model) and Close (predicted)')\n",
        "plt.xlabel('Date')\n",
        "plt.ylabel('Close Value')\n",
        "\n",
        "plt.show()\n"
      ],
      "metadata": {
        "id": "XLCUWcSLXVSv",
        "colab": {
          "base_uri": "https://localhost:8080/",
          "height": 714
        },
        "outputId": "983d7877-e79a-45fa-c567-99d7aa2224e6"
      },
      "execution_count": null,
      "outputs": [
        {
          "output_type": "display_data",
          "data": {
            "text/plain": [
              "<Figure size 1400x700 with 1 Axes>"
            ],
            "image/png": "[encoded data removed]"
          },
          "metadata": {}
        }
      ]
    },
    {
      "cell_type": "markdown",
      "source": [
        "13. Conclusion"
      ],
      "metadata": {
        "id": "Xo-EEqznuFpL"
      }
    },
    {
      "cell_type": "markdown",
      "source": [
        "In utilizing the LSTM model for time series forecasting on the daily closing prices of the EUR/USD currency pair, with a focus on predicting the upcoming 5 days, the model was trained on 80% of the training data, and the forecasting itself was limited to the last 60 days of the test dataset. The forecasting results for the period from December 19 to December 25, 2023, are as follows:\n",
        "\n",
        "December 19, 2023: 1.094157                                                     \n",
        "December 20, 2023: 1.094894                                                     \n",
        "December 21, 2023: 1.095631                                                     \n",
        "December 22, 2023: 1.096368                                                     \n",
        "December 25, 2023: 1.097105                                                     \n",
        "\n",
        "Moreover, The model demonstrates a remarkable level of efficiency, as evidenced by the following metrics:\n",
        "\n",
        "oot Mean Squared Error (RMSE): 0.006083103737104555                             \n",
        "Mean Absolute Error (MAE): 0.004639093257011254                                 \n",
        "Mean Absolute Percentage Error (MAPE): 0.004394268219791667                     \n",
        "Symmetric Mean Absolute Percentage Error (SMAPE): 0.004386971632029071          \n",
        "R-squared (R²): 0.9771207412721555                                              \n",
        "\n",
        "These predictions suggest a subtle upward trajectory in the EUR/USD closing prices over the specified timeframe. It is noteworthy that the LSTM model, trained on historical data, provides a valuable tool for forecasting future trends. Moreover, it's adaptable and can be applied to other financial datasets, such as stock prices, contingent upon the specific input data of interest. The model's performance underscores its potential as a versatile tool for time series forecasting in various financial domains.\n",
        "\n",
        "\n",
        "\n",
        "\n",
        "\n",
        "\n",
        "\n"
      ],
      "metadata": {
        "id": "xc-vq9Kbxcyq"
      }
    }
  ]
}